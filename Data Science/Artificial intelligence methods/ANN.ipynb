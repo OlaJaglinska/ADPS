{
  "cells": [
    {
      "cell_type": "markdown",
      "metadata": {
        "id": "6Qkf2lWiR7Ck"
      },
      "source": [
        "### Zadanie 1\n",
        "Napisz funkcję perceptron, która będzie realizowała obliczenia perceptronu z dwoma wejściami $x_1$ oraz $x_2$, z progową funkcją aktywacji. Jako wejście będzie przyjmowała wagi $w_1$, $w_2$ oraz wejścia $x_1,x_2 \\in {0,1}$. Dobierz w sposób manualny wagi $w_1$, $w_2$ oraz $w_3$do problemu:\n",
        "\n",
        "1. Operacji logicznej AND: \n",
        "    \n",
        "    Przykład: parametryzacja postaci w1=0.2, w2=0,w3=0.1 nie jest dobra mimo, że dla x1=1 oraz dla x2=1 wartość x1AND x2 jest poprawna to już dla x1=0 oraz x2=1 wartość dalej wynosi 1, podczas gdy powinna 0.\n",
        "\n",
        "| x1 | x2 | x1 and x2 |\n",
        "|-:|-:|-:|\n",
        "| 0 | 0 | 0 |\n",
        "| 0 | 1 | 0 |\n",
        "| 1 | 0 | 0 |\n",
        "| 1 | 1 | 1 |\n",
        "\n",
        "2. Operacji logicznej OR:\n",
        "\n",
        "| x1 | x2 | x1 or x2 |\n",
        "|-:|-:|-:|\n",
        "| 0 | 0 | 0 |\n",
        "| 0 | 1 | 1 |\n",
        "| 1 | 0 | 1 |\n",
        "| 1 | 1 | 1 |\n",
        "\n",
        "3. Czy podobnie uda się dobrać wagi dla problemu XOR? Odpowiedź uzasadnij.\n",
        "\n",
        "| x1 | x2 | x1 xor x2 |\n",
        "|-:|-:|-:|\n",
        "| 0 | 0 | 0 |\n",
        "| 0 | 1 | 1 |\n",
        "| 1 | 0 | 1 |\n",
        "| 1 | 1 | 0 |\n"
      ]
    },
    {
      "cell_type": "code",
      "execution_count": 2,
      "metadata": {
        "id": "4dlIfryaR7EH"
      },
      "outputs": [],
      "source": [
        "def perceptron(w1, w2, w3, x1, x2):\n",
        "   y = w1 * x1 + w2 * x2 + w3\n",
        "   return 1 if y > 0 else 0"
      ]
    },
    {
      "cell_type": "code",
      "source": [
        "#AND\n",
        "\n",
        "w1 = 1\n",
        "w2 = 1\n",
        "w3 = -1\n",
        "\n",
        "print(perceptron(w1, w2, w3, 0, 0))\n",
        "print(perceptron(w1, w2, w3, 0, 1))\n",
        "print(perceptron(w1, w2, w3, 1, 0))\n",
        "print(perceptron(w1, w2, w3, 1, 1))"
      ],
      "metadata": {
        "colab": {
          "base_uri": "https://localhost:8080/"
        },
        "id": "MbJARH05Sq6z",
        "outputId": "b05eab24-15be-4a1a-d56a-e2cf84d1f44f"
      },
      "execution_count": 3,
      "outputs": [
        {
          "output_type": "stream",
          "name": "stdout",
          "text": [
            "0\n",
            "0\n",
            "0\n",
            "1\n"
          ]
        }
      ]
    },
    {
      "cell_type": "code",
      "source": [
        "#OR\n",
        "\n",
        "w1 = 1\n",
        "w2 = 1\n",
        "w3 = 0\n",
        "\n",
        "print(perceptron(w1, w2, w3, 0, 0))\n",
        "print(perceptron(w1, w2, w3, 0, 1))\n",
        "print(perceptron(w1, w2, w3, 1, 0))\n",
        "print(perceptron(w1, w2, w3, 1, 1))"
      ],
      "metadata": {
        "colab": {
          "base_uri": "https://localhost:8080/"
        },
        "id": "POJyWOieUJud",
        "outputId": "2892e035-a02f-4d76-9a9b-74b637f81fce"
      },
      "execution_count": 4,
      "outputs": [
        {
          "output_type": "stream",
          "name": "stdout",
          "text": [
            "0\n",
            "1\n",
            "1\n",
            "1\n"
          ]
        }
      ]
    },
    {
      "cell_type": "code",
      "source": [
        "#XOR \n",
        "\n",
        "w1 = 1\n",
        "w2 = 0\n",
        "w3 = 0\n",
        "\n",
        "print(perceptron(w1, w2, w3, 0, 0))\n",
        "print(perceptron(w1, w2, w3, 0, 1))\n",
        "print(perceptron(w1, w2, w3, 1, 0))\n",
        "print(perceptron(w1, w2, w3, 1, 1))"
      ],
      "metadata": {
        "id": "IddrZ1sXUTNK",
        "colab": {
          "base_uri": "https://localhost:8080/"
        },
        "outputId": "ffd3622d-01ae-43bd-b685-31c5f43d27d0"
      },
      "execution_count": 5,
      "outputs": [
        {
          "output_type": "stream",
          "name": "stdout",
          "text": [
            "0\n",
            "0\n",
            "1\n",
            "1\n"
          ]
        }
      ]
    },
    {
      "cell_type": "markdown",
      "source": [
        "Pojedynczy perceptron nie wystraczy aby poprawnie zrealizowac funkcję XOR. "
      ],
      "metadata": {
        "id": "thwSIMwSUnF1"
      }
    },
    {
      "cell_type": "markdown",
      "metadata": {
        "id": "IS9OItujR7ER"
      },
      "source": [
        "### Zadanie 2\n",
        "\n",
        "Napisz procedurę **train_ann**, która na wyjściu zwróci krotkę zawierającą dwie wartości: w1 oraz w2, które odpowiednio oznaczają macierze wag pomiędzy warstwą wejściową a warstwą ukrytą oraz pomiędzy warstwą ukrytą a warstwą wyjściową. Jest to funkcja, której zadaniem jest trenowanie sieci w trybie batchowym. Należy pamiętać o:\n",
        "\n",
        "1. Zainicjalizowaniu zmiennych odpowiedzialnych za przechowywanie macierzy w1 i w2 w sposób losowy (np. ze standardowego rozkładu normalnego poprzez np.random.randn.\n",
        "2. W zmiennej it_nmb przechowujemy maksymalną liczbę iteracji (jest to brutalny warunek stopu nie odwołujący się do wniosków, które należałoby wyciągać wraz z kolejnymi iteracjami, ale dobry “na początek”)\n",
        "3. Iterując się po od 0 do it_nmb należy wykonywać na przemian fazę FeedForward oraz fazę BackPropagation. Pierwsza z nich oblicza wyjście dla zbioru treningowego dla aktualnych wartości macierzy wag w1 oraz w2. Druga aktualizuje te wagi zgodnie z kierunkiem największego spadku. \n",
        "4. Skorzystaj ze zmiennych pomocniczych aby określić wymiarowość macierzy w1 i w2: nmb_of_inputs_in_w1, nmb_of_inputs_in_w2, nmb_of_outputs.\n",
        "5. Implementacja funkcji compute_feed_forward oraz compute_backpropagation będzie przedmiotem kolejnych zadań. Możesz na razie zdefiniować pustą implementację tych funkcji zwracającą “None”."
      ]
    },
    {
      "cell_type": "code",
      "execution_count": 6,
      "metadata": {
        "id": "5tsHjpzOR7EV"
      },
      "outputs": [],
      "source": [
        "def train_ann(x, y, hidden = 10, eta = 0.1, it_nmb = 10000):\n",
        "    nmb_of_inputs_in_w1 = x.shape[1] + 1\n",
        "    nmb_of_inputs_in_w2 = hidden + 1\n",
        "    nmb_of_outputs = y.shape[1]\n",
        "    \n",
        "    w1 = np.random.randn(nmb_of_inputs_in_w1, hidden)\n",
        "    w2 = np.random.randn(nmb_of_inputs_in_w2, nmb_of_outputs)\n",
        "    \n",
        "    for i in range(0,it_nmb):\n",
        "        outputs = compute_feed_forward(x, w1, w2)\n",
        "        new_w = compute_backpropagation(x, y, outputs[0], outputs[1], w1, w2, eta)\n",
        "        w1 = new_w[0]\n",
        "        w2 = new_w[1]\n",
        "    return (w1, w2)\n"
      ]
    },
    {
      "cell_type": "markdown",
      "metadata": {
        "id": "lAb7oHZ-R7EY"
      },
      "source": [
        "### Zadanie 3\n",
        "\n",
        "W pierwszym kroku napisz procedurę **compute_feed_forward**, która na wyjściu zwróci listę zawierającą dwie wartości: *ou* oraz *oh*, które odpowiednio oznaczają wyjście neuronów z warstwy wyjściowej oraz wyjście z warstwy ukrytej.\n",
        "\n",
        "W zadaniu wykorzystaj implementację funkcji sigmoid podaną poniżej"
      ]
    },
    {
      "cell_type": "code",
      "execution_count": 7,
      "metadata": {
        "id": "ODY46USeR7Ea"
      },
      "outputs": [],
      "source": [
        "from numpy import exp\n",
        "\n",
        "def sigmoid(x):\n",
        "  return 1 / (1 + exp(-x))"
      ]
    },
    {
      "cell_type": "code",
      "execution_count": 8,
      "metadata": {
        "id": "Y4KK6_MnR7Ee"
      },
      "outputs": [],
      "source": [
        "def compute_feed_forward(x, w1, w2, activation_function = sigmoid):\n",
        "    \n",
        "    x = np.c_[x, np.repeat(1, x.shape[0])]\n",
        "    oh = activation_function(x @ w1)\n",
        "    \n",
        "    oh_b = np.c_[oh, np.repeat(1, oh.shape[0])]\n",
        "    ou = activation_function(oh_b @ w2)\n",
        "\n",
        "    return (ou, oh)"
      ]
    },
    {
      "cell_type": "markdown",
      "metadata": {
        "id": "pTIiaYLxR7F3"
      },
      "source": [
        "### Zadanie 4\n",
        "\n",
        "Zaimplementuj funkcję compute_backpropagation realizującą zadanie wstecznej propagacji. "
      ]
    },
    {
      "cell_type": "code",
      "execution_count": 9,
      "metadata": {
        "id": "1vAbNAbkR7GE"
      },
      "outputs": [],
      "source": [
        "def compute_backpropagation(x, y, ou, oh, w1, w2, eta):\n",
        "    delta_u = (ou * (1 - ou))*(y - ou)\n",
        "    oh_b = np.c_[oh, np.repeat(1,oh.shape[0])]\n",
        "    delta_h = (oh * (1 - oh)) * (delta_u @ w2[:-1].T)\n",
        "    x_b = np.c_[x, np.repeat(1, x.shape[0])]\n",
        "    \n",
        "    w2 = w2 + oh_b.T @ delta_u * eta\n",
        "    w1 = w1 + x_b.T @ delta_h * eta\n",
        "    \n",
        "    return (w1,w2)"
      ]
    },
    {
      "cell_type": "markdown",
      "metadata": {
        "id": "T5WefMzeR7GJ"
      },
      "source": [
        "### Zadanie 5\n",
        "\n",
        "Zaimplementuj funkcję predict, której zadaniem jest dla zadanego zbioru przykładów (którego postać macierzowa jest identyczna jak zmiennej x wykorzystywanej do uczenia) obliczyć wartości zmiennej objaśnianej (czyli macierz/wektor postaci macierzowej identycznej jak zmiennej y wykorzystywanej do uczenia). "
      ]
    },
    {
      "cell_type": "code",
      "execution_count": 10,
      "metadata": {
        "id": "v1RdxibhR7GN"
      },
      "outputs": [],
      "source": [
        "def predict(x, model, activation_function = sigmoid):\n",
        "    x = np.c_[x, np.repeat(1, x.shape[0])]\n",
        "    h = activation_function(x @ model[0])\n",
        "    h2 = np.c_[h, np.repeat(1, h.shape[0])]\n",
        "    out = activation_function(h2 @ model[1])\n",
        "    return np.array([1.0 if element >0.5 else 0.0 for element in out])"
      ]
    },
    {
      "cell_type": "markdown",
      "metadata": {
        "id": "gzJ6MWM7R7GY"
      },
      "source": [
        "### Zadanie 6\n",
        "Do dzieła! Teraz skoro mamy już w pełni działającą sieć neuronową możemy jej użyć! Najpierw sprawdźmy czy sieć nauczy się rozwiązywać problem koniunkcji logicznej: \n"
      ]
    },
    {
      "cell_type": "code",
      "execution_count": 11,
      "metadata": {
        "id": "LNn1cs9aR7Gt",
        "colab": {
          "base_uri": "https://localhost:8080/"
        },
        "outputId": "8d5facda-6715-422b-8126-6fe628932415"
      },
      "outputs": [
        {
          "output_type": "stream",
          "name": "stdout",
          "text": [
            "[0. 0. 0. 1.]\n",
            "[[-0.95755354 -0.56354849 -2.02622814 -1.93514617 -1.15097933 -1.04034465\n",
            "   1.97981372  2.41066769  0.39561565 -0.74952944]\n",
            " [ 0.9758235  -1.03981545 -0.70503518 -1.86356042 -1.2711662  -0.36406043\n",
            "   0.97955705  1.91012249 -3.27315701 -0.3516951 ]\n",
            " [ 1.39828928  0.53719213  1.28210056  2.38490061  1.03740353 -0.51003473\n",
            "  -1.56568051 -2.81508729  0.66202074 -0.56247352]]\n",
            "[[-0.17297951]\n",
            " [-1.63342061]\n",
            " [-2.03218963]\n",
            " [-3.90935441]\n",
            " [-2.52473763]\n",
            " [-0.62158154]\n",
            " [ 2.83686221]\n",
            " [ 4.43492034]\n",
            " [-2.81082218]\n",
            " [-1.06903282]\n",
            " [ 0.25968561]]\n"
          ]
        }
      ],
      "source": [
        "import numpy as np\n",
        "x = np.array([[0,0],[1,0],[0,1],[1,1]])\n",
        "y = np.array([[0],[0],[0],[1]])\n",
        "\n",
        "model = train_ann(x,y)\n",
        "print(predict(x, model))\n",
        "\n",
        "print(model[0]) #w1\n",
        "print(model[1]) #w2"
      ]
    },
    {
      "cell_type": "markdown",
      "metadata": {
        "id": "FWPgFFTMR7G3"
      },
      "source": [
        "Zmień postać macierzy x oraz y tak aby nauczyć się problemu XOR z zadania 2. "
      ]
    },
    {
      "cell_type": "markdown",
      "metadata": {
        "id": "_Re6hZTCR7HN"
      },
      "source": [
        "### Zadanie 7\n",
        "\n",
        "Podobnie jak w zadaniu z SVM załaduj zbiór “cats”:"
      ]
    },
    {
      "cell_type": "code",
      "execution_count": 13,
      "metadata": {
        "id": "ZpFjrJXcR7HO"
      },
      "outputs": [],
      "source": [
        "import pandas as pd\n",
        "\n",
        "cats = pd.read_csv(\"cats.csv\")"
      ]
    },
    {
      "cell_type": "markdown",
      "metadata": {
        "id": "mFAofrnCR7HY"
      },
      "source": [
        "1. Zbuduj model dla tego zbioru z wykorzystaniem metod do trenowania sieci neuronowych z poprzedniego zadania. Konieczna będzie transformacja danych wejściowych:\n"
      ]
    },
    {
      "cell_type": "code",
      "execution_count": 14,
      "metadata": {
        "id": "9AVpxoIIR7Hr",
        "colab": {
          "base_uri": "https://localhost:8080/"
        },
        "outputId": "69043a10-49bb-48d2-ae32-8d9bbe7a34fb"
      },
      "outputs": [
        {
          "output_type": "stream",
          "name": "stderr",
          "text": [
            "/usr/local/lib/python3.7/dist-packages/pandas/core/indexing.py:1732: SettingWithCopyWarning: \n",
            "A value is trying to be set on a copy of a slice from a DataFrame\n",
            "\n",
            "See the caveats in the documentation: https://pandas.pydata.org/pandas-docs/stable/user_guide/indexing.html#returning-a-view-versus-a-copy\n",
            "  self._setitem_single_block(indexer, value, name)\n"
          ]
        }
      ],
      "source": [
        "x = cats.iloc[:,1:]\n",
        "y = cats.iloc[:,0]\n",
        "\n",
        "y.loc[y==\"F\"] = 1.0\n",
        "y.loc[y==\"M\"] = 0.0\n",
        "\n",
        "y = y.to_numpy().reshape(-1,1).astype(np.float16)\n",
        "x = x.astype(np.float16)"
      ]
    },
    {
      "cell_type": "markdown",
      "metadata": {
        "id": "VzCAQurLR7H1"
      },
      "source": [
        "Co zauważyłeś? Czy model, który otrzymałeś wykazuje zdolność uczenia z przedstawionych danych? "
      ]
    },
    {
      "cell_type": "code",
      "source": [
        "model_cats = train_ann(x, y, hidden = 10, eta = 1.0, it_nmb = 1000)\n",
        "predictions = predict(x, model_cats)\n",
        "\n",
        "from sklearn import metrics\n",
        "\n",
        "print(predictions)\n",
        "print(metrics.confusion_matrix(y, predictions, labels = [1, 0]))\n",
        "print(metrics.classification_report(y, predictions, labels = [1, 0]))"
      ],
      "metadata": {
        "colab": {
          "base_uri": "https://localhost:8080/"
        },
        "id": "Kx7NpQrz71mQ",
        "outputId": "353286d3-d1f0-41f1-b4ff-d5ef5a4a6f75"
      },
      "execution_count": 18,
      "outputs": [
        {
          "output_type": "stream",
          "name": "stdout",
          "text": [
            "[0. 0. 0. 0. 0. 0. 0. 0. 0. 0. 0. 0. 0. 0. 0. 0. 0. 0. 0. 0. 0. 0. 0. 0.\n",
            " 0. 0. 0. 0. 0. 0. 0. 0. 0. 0. 0. 0. 0. 0. 0. 0. 0. 0. 0. 0. 0. 0. 0. 0.\n",
            " 0. 0. 0. 0. 0. 0. 0. 0. 0. 0. 0. 0. 0. 0. 0. 0. 0. 0. 0. 0. 0. 0. 0. 0.\n",
            " 0. 0. 0. 0. 0. 0. 0. 0. 0. 0. 0. 0. 0. 0. 0. 0. 0. 0. 0. 0. 0. 0. 0. 0.\n",
            " 0. 0. 0. 0. 0. 0. 0. 0. 0. 0. 0. 0. 0. 0. 0. 0. 0. 0. 0. 0. 0. 0. 0. 0.\n",
            " 0. 0. 0. 0. 0. 0. 0. 0. 0. 0. 0. 0. 0. 0. 0. 0. 0. 0. 0. 0. 0. 0. 0. 0.]\n",
            "[[ 0 47]\n",
            " [ 0 97]]\n",
            "              precision    recall  f1-score   support\n",
            "\n",
            "           1       0.00      0.00      0.00        47\n",
            "           0       0.67      1.00      0.80        97\n",
            "\n",
            "    accuracy                           0.67       144\n",
            "   macro avg       0.34      0.50      0.40       144\n",
            "weighted avg       0.45      0.67      0.54       144\n",
            "\n"
          ]
        },
        {
          "output_type": "stream",
          "name": "stderr",
          "text": [
            "/usr/local/lib/python3.7/dist-packages/sklearn/metrics/_classification.py:1318: UndefinedMetricWarning: Precision and F-score are ill-defined and being set to 0.0 in labels with no predicted samples. Use `zero_division` parameter to control this behavior.\n",
            "  _warn_prf(average, modifier, msg_start, len(result))\n",
            "/usr/local/lib/python3.7/dist-packages/sklearn/metrics/_classification.py:1318: UndefinedMetricWarning: Precision and F-score are ill-defined and being set to 0.0 in labels with no predicted samples. Use `zero_division` parameter to control this behavior.\n",
            "  _warn_prf(average, modifier, msg_start, len(result))\n",
            "/usr/local/lib/python3.7/dist-packages/sklearn/metrics/_classification.py:1318: UndefinedMetricWarning: Precision and F-score are ill-defined and being set to 0.0 in labels with no predicted samples. Use `zero_division` parameter to control this behavior.\n",
            "  _warn_prf(average, modifier, msg_start, len(result))\n"
          ]
        }
      ]
    },
    {
      "cell_type": "markdown",
      "source": [
        "Sieć nie poradziła sobie z zadaniem, w ogóle nie rozpoznaje Female."
      ],
      "metadata": {
        "id": "sEIAwfeo8_w8"
      }
    },
    {
      "cell_type": "markdown",
      "metadata": {
        "id": "3YyQRY--R7H4"
      },
      "source": [
        "2. Dokonaj przeskalowania danych zgodnie z poniższą formułą:"
      ]
    },
    {
      "cell_type": "code",
      "execution_count": 19,
      "metadata": {
        "id": "OD5c_hMER7H9",
        "colab": {
          "base_uri": "https://localhost:8080/"
        },
        "outputId": "5e097164-a855-450d-d092-81d9597c7a22"
      },
      "outputs": [
        {
          "output_type": "stream",
          "name": "stderr",
          "text": [
            "/usr/local/lib/python3.7/dist-packages/sklearn/preprocessing/_data.py:236: UserWarning: Numerical issues were encountered when centering the data and might not be solved. Dataset may contain too large values. You may need to prescale your features.\n",
            "  \"Numerical issues were encountered \"\n",
            "/usr/local/lib/python3.7/dist-packages/sklearn/preprocessing/_data.py:255: UserWarning: Numerical issues were encountered when scaling the data and might not be solved. The standard deviation of the data is probably very close to 0. \n",
            "  \"Numerical issues were encountered \"\n"
          ]
        },
        {
          "output_type": "stream",
          "name": "stdout",
          "text": [
            "[1. 1. 1. 0. 1. 1. 1. 1. 1. 1. 1. 1. 0. 1. 1. 1. 1. 1. 0. 0. 1. 1. 1. 1.\n",
            " 1. 1. 1. 1. 1. 1. 0. 0. 0. 1. 0. 0. 0. 1. 1. 0. 0. 0. 0. 0. 0. 0. 0. 0.\n",
            " 0. 1. 0. 0. 1. 1. 1. 1. 1. 1. 1. 0. 0. 0. 0. 0. 0. 0. 0. 0. 0. 0. 0. 0.\n",
            " 0. 0. 0. 0. 1. 0. 0. 0. 0. 0. 0. 1. 0. 0. 0. 0. 0. 0. 0. 0. 0. 0. 0. 0.\n",
            " 0. 0. 0. 0. 0. 0. 0. 0. 0. 0. 0. 0. 0. 0. 0. 0. 0. 0. 0. 0. 0. 0. 0. 0.\n",
            " 0. 0. 0. 0. 0. 0. 0. 0. 0. 0. 0. 0. 0. 0. 0. 0. 0. 0. 0. 0. 0. 0. 0. 0.]\n",
            "[[29 18]\n",
            " [10 87]]\n",
            "              precision    recall  f1-score   support\n",
            "\n",
            "           1       0.74      0.62      0.67        47\n",
            "           0       0.83      0.90      0.86        97\n",
            "\n",
            "    accuracy                           0.81       144\n",
            "   macro avg       0.79      0.76      0.77       144\n",
            "weighted avg       0.80      0.81      0.80       144\n",
            "\n"
          ]
        }
      ],
      "source": [
        "from sklearn import preprocessing\n",
        "\n",
        "x_scaled = preprocessing.scale(x)\n",
        "\n",
        "model_cats = train_ann(x_scaled, y, hidden = 10, eta = 1.0, it_nmb = 1000)\n",
        "predictions = predict(x_scaled, model_cats)\n",
        "\n",
        "from sklearn import metrics\n",
        "\n",
        "print(predictions)\n",
        "print(metrics.confusion_matrix(y, predictions, labels = [1, 0]))\n",
        "print(metrics.classification_report(y, predictions, labels = [1, 0]))"
      ]
    },
    {
      "cell_type": "markdown",
      "source": [
        "Po przeskalowaniu sieć sobie lepiej radzi. Zwracane wartosci są zróżnicowane (1 i 0), a accuracy wysokie. Skalowanie pomogło ponieważ dane - masa serca i masa ciała - wejściowo były w różnych jednostkach g i kg. "
      ],
      "metadata": {
        "id": "gqO12RNA9v9c"
      }
    },
    {
      "cell_type": "markdown",
      "metadata": {
        "id": "3jPDnQtSR7H_"
      },
      "source": [
        "Co zaobserwowałeś? Jeśli skalowanie pomogło - to wyjaśnij dlaczego? \n",
        "Porównaj wyniki otrzymane z wynikami modelu SVM. Do rysowania krzywej decyzyjnej użyj zmodyfikowanej wersji funkcji plotCats z poprzedniego laboratorium:"
      ]
    },
    {
      "cell_type": "code",
      "execution_count": 21,
      "metadata": {
        "id": "g2QTILYYR7IA"
      },
      "outputs": [],
      "source": [
        "import matplotlib.pyplot as plt \n",
        "\n",
        "\n",
        "def plotCats(X, Y, model):\n",
        "    x_min, x_max = X[:,0].min() - .5, X[:,0].max() + .5\n",
        "    y_min, y_max = X[:,1].min() - .5, X[:,1].max() + .5\n",
        "    h = .02     \n",
        "    xx, yy = np.meshgrid(np.arange(x_min, x_max, h), np.arange(y_min, y_max, h))\n",
        "    predictions = predict(np.c_[xx.ravel(), yy.ravel()], model)\n",
        "\n",
        "    predictions = predictions.reshape(xx.shape)\n",
        "\n",
        "    f, ax = plt.subplots(figsize=(8, 6))\n",
        "    contour = ax.contourf(xx, yy, predictions, 1, cmap=\"RdBu\",\n",
        "                      vmin=0, vmax=1)\n",
        "\n",
        "    ax_c = f.colorbar(contour)\n",
        "    ax_c.set_label(\"Decision class\")\n",
        "\n",
        "    ax.scatter(X[:,0], X[:,1], c=y, s=55,\n",
        "           cmap=\"RdBu\", vmin=-.2, vmax=1.2,\n",
        "           edgecolor=\"black\", linewidth=1)\n",
        "\n",
        "    ax.set(\n",
        "       xlim=(x_min, x_max), ylim=(y_min, y_max),\n",
        "       xlabel=\"Bwt\", ylabel=\"Hwt\")"
      ]
    },
    {
      "cell_type": "code",
      "source": [
        "plotCats(x_scaled, y, model_cats)"
      ],
      "metadata": {
        "colab": {
          "base_uri": "https://localhost:8080/",
          "height": 392
        },
        "id": "0dc4wppF-p31",
        "outputId": "b1da6f1d-6641-4f81-dbc7-f2c94a45d3bf"
      },
      "execution_count": 22,
      "outputs": [
        {
          "output_type": "display_data",
          "data": {
            "text/plain": [
              "<Figure size 576x432 with 2 Axes>"
            ],
            "image/png": "[encoded data removed]"
          },
          "metadata": {
            "needs_background": "light"
          }
        }
      ]
    },
    {
      "cell_type": "markdown",
      "metadata": {
        "id": "u95VkiYuR7IB"
      },
      "source": [
        "3. Zastosuj skalowanie Min - Max i porównaj wyniki. "
      ]
    },
    {
      "cell_type": "code",
      "execution_count": 23,
      "metadata": {
        "id": "AVUM85ZSR7IC",
        "colab": {
          "base_uri": "https://localhost:8080/"
        },
        "outputId": "973c1fef-daba-4bf2-9d20-587b7d64a58e"
      },
      "outputs": [
        {
          "output_type": "execute_result",
          "data": {
            "text/plain": [
              "array([0.2544, 0.1709], dtype=float16)"
            ]
          },
          "metadata": {},
          "execution_count": 23
        }
      ],
      "source": [
        "from sklearn.preprocessing import MinMaxScaler\n",
        "\n",
        "scaler = MinMaxScaler()\n",
        "\n",
        "scaler.fit(x)\n",
        "x_minmax_scaled = scaler.transform(x)\n",
        "x_minmax_scaled.std(axis=0)"
      ]
    }
  ],
  "metadata": {
    "kernelspec": {
      "display_name": "Python 3",
      "name": "python3"
    },
    "language_info": {
      "name": "python"
    },
    "colab": {
      "name": "SSN_zadania.ipynb",
      "provenance": [],
      "collapsed_sections": []
    }
  },
  "nbformat": 4,
  "nbformat_minor": 0
}