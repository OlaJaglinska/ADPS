{
 "cells": [
  {
   "cell_type": "code",
   "execution_count": null,
   "id": "bbf6b4dc",
   "metadata": {},
   "outputs": [],
   "source": [
    "import numpy as np\n",
    "import pandas as pd"
   ]
  },
  {
   "cell_type": "code",
   "execution_count": null,
   "id": "658667b1",
   "metadata": {},
   "outputs": [],
   "source": [
    "ZADANIE 1"
   ]
  },
  {
   "cell_type": "code",
   "execution_count": null,
   "id": "d2d6f001",
   "metadata": {},
   "outputs": [],
   "source": [
    "podatek_dochod = 0.17\n",
    "skl_emeryt, skl_rentow, skl_chorob = 0.0976, 0.0150, 0.0245\n",
    "ubezp_zdrow_staw1, ubezp_zdrow_staw2 = 0.09, 0.0775\n",
    "koszt_uzyskania = 250.00\n",
    "kwota_wolna = 43.76\n",
    "placa_brutto = 3200\n",
    "emeryt = skl_emeryt * placa_brutto\n",
    "rentow = skl_rentow * placa_brutto\n",
    "chorob = skl_chorob * placa_brutto\n",
    "spoleczn = emeryt + rentow + chorob\n",
    "przychod = placa_brutto - spoleczn\n",
    "zdrow = ubezp_zdrow_staw1 * przychod\n",
    "podst_opod = przychod - koszt_uzyskania\n",
    "podatek = podatek_dochod ** podst_opod - kwota_wolna\n",
    "podatek -= ubezp_zdrow_staw2 * przychod\n",
    "placa_netto = placa_brutto - spoleczn - zdrow - podatek \n",
    "\n",
    "print(' Płaca brutto: %f \\n * Ub. społeczne: %f \\n *** Ub. emeryt.: %f \\n *** Ub. rentow.: %f \\n *** Ub. chorob.: %f \\n * Ub. zdrowotne: %f \\n * Podatek doch.: %f \\n Płaca netto: %f ' % (\n",
    "placa_brutto, spoleczn, emeryt, rentow, chorob, zdrow, podatek, placa_netto\n",
    "))"
   ]
  },
  {
   "cell_type": "code",
   "execution_count": null,
   "id": "b17fcac5",
   "metadata": {},
   "outputs": [],
   "source": [
    "ZADANIE 2"
   ]
  },
  {
   "cell_type": "code",
   "execution_count": null,
   "id": "69aeae7c",
   "metadata": {},
   "outputs": [],
   "source": [
    "pts1 = [3, 1, 3, 2, 1, 3, 2, 3, 2, 1, 3, 2, 1, 3, 3]\n",
    "\n",
    "pres2 = [\n",
    "True, True, True, True, False, True, True, True, True,\n",
    "True, False, False, True, False, True\n",
    "]\n",
    "home2 = ['''\n",
    "'perf', 'perf', 'perf', 'good', 'good', 'good', 'perf’,\n",
    "'none', 'good’, 'good', 'good', 'none', 'good', 'perf’,\n",
    "'good’\n",
    "''']\n",
    "\n",
    "for i in pres2:\n",
    "    if i == 1:\n",
    "        [p+1 for p in pts1]\n",
    "        \n",
    "  \n",
    "print(home2, pts2, (lambda x, y: y + 2 if x == 'perf' else (y + 1 if x == 'good' else + 0)))\n",
    "    \n",
    "\n",
    "print(pts2)\n",
    "print(home2)"
   ]
  },
  {
   "cell_type": "code",
   "execution_count": null,
   "id": "001fcc15",
   "metadata": {},
   "outputs": [],
   "source": [
    "ZADANIE 3"
   ]
  },
  {
   "cell_type": "code",
   "execution_count": null,
   "id": "c9b942f3",
   "metadata": {},
   "outputs": [],
   "source": [
    "sciezka = './frankenstein.txt'\n",
    "frankenstein = open(sciezka, 'r', encoding=\"utf-8\")\n",
    "frankenstein.read()\n",
    "\n",
    "with open (\"./frankenstein.txt\", \"r\") as myfile:\n",
    "    data = myfile.read().replace('\\n', '')\n",
    "    print(data)\n",
    "    freq = data.count(Symbol)\n",
    "    print(freq)\n"
   ]
  },
  {
   "cell_type": "code",
   "execution_count": null,
   "id": "04e058a7",
   "metadata": {},
   "outputs": [],
   "source": [
    "ZADANIE 4"
   ]
  },
  {
   "cell_type": "code",
   "execution_count": null,
   "id": "baadfd73",
   "metadata": {},
   "outputs": [],
   "source": [
    "hosp = (15444, 16144, 16427, 17223, 18160, 18654, 19114)\n",
    "\n",
    "def transform2(ts, func):\n",
    "    return [func(v0, v1) for v0, v1 in zip(hosp[:-1], hosp[1:])]\n",
    "\n",
    "print(transform2(hosp, lambda x0, x1: x1 - x0))\n",
    "\n",
    "zmiana_procentowa = transform2(hosp, lambda x0, x1: round((x1 - x0) * 100 / x0, 2))\n",
    "print(zmiana_procentowa)"
   ]
  },
  {
   "cell_type": "code",
   "execution_count": null,
   "id": "ca458251",
   "metadata": {},
   "outputs": [],
   "source": [
    "ZADANIE 5"
   ]
  },
  {
   "cell_type": "code",
   "execution_count": null,
   "id": "9b4ee9d6",
   "metadata": {},
   "outputs": [],
   "source": [
    "class Sample:\n",
    "    def __init__ (self, val):\n",
    "        self.val = val\n",
    "    def get_vals(self):\n",
    "        return self.val\n",
    "    def get_val(self, i):\n",
    "        return self.val[i - 1]\n",
    "    \n",
    "    def set_val(self, i, new_val):\n",
    "        self.val.remove(self.val[i-1])\n",
    "        self.val.insert(i-1, new_val)\n",
    "        return self.val\n",
    "        \n",
    "    def add_val(self, last_val):\n",
    "        self.val.append(last_val)\n",
    "        return self.val\n",
    "            \n",
    "    \n",
    "    \n",
    "    \n",
    "s = Sample([1, 2, 3])\n",
    "print(s.get_vals())\n",
    "print(s.get_val(1))\n",
    "\n",
    "print(s.set_val(1, 222))\n",
    "print(s.get_vals())\n",
    "\n",
    "print(s.add_val(4657))\n",
    "print(s.get_vals())\n"
   ]
  },
  {
   "cell_type": "code",
   "execution_count": null,
   "id": "c5ff2162",
   "metadata": {},
   "outputs": [],
   "source": [
    "ZADANIE 6"
   ]
  },
  {
   "cell_type": "code",
   "execution_count": null,
   "id": "8ae600b2",
   "metadata": {},
   "outputs": [],
   "source": [
    "class Sample(object):\n",
    "    def __init__ (self, val):\n",
    "        self.val = val\n",
    "    def get_vals(self):\n",
    "        return self.val\n",
    "    def get_val(self, i):\n",
    "        return self.val[i - 1]\n",
    "    \n",
    "    def set_val(self, i, new_val):\n",
    "        self.val.remove(self.val[i-1])\n",
    "        self.val.insert(i-1, new_val)\n",
    "        return self.val\n",
    "        \n",
    "    def add_val(self, last_val):\n",
    "        self.val.append(last_val)\n",
    "        return self.val\n",
    "    \n",
    "    \n",
    "class ExtSample(Sample):\n",
    "    def __init__ (self, val):\n",
    "        self.val = val\n",
    "        super().__init__(val) \n",
    "    def sum(self):\n",
    "        return sum(self.val)\n",
    "    def mul(self):\n",
    "        return np.prod(self.val)\n",
    "    def avg(self):\n",
    "        return np.mean(self.val)\n",
    "    \n",
    "es = ExtSample([1, 2, 3, 4])\n",
    "print(es.get_vals())\n",
    "print(es.add_val(5))\n",
    "print(es.get_vals())\n",
    "print(es.sum())\n",
    "print(es.mul())\n",
    "print(es.avg())    "
   ]
  },
  {
   "cell_type": "code",
   "execution_count": null,
   "id": "41bc62a9",
   "metadata": {},
   "outputs": [],
   "source": [
    "ZADANIE 7"
   ]
  },
  {
   "cell_type": "code",
   "execution_count": null,
   "id": "f196dbf7",
   "metadata": {},
   "outputs": [],
   "source": [
    "class Vector:\n",
    "    def __init__ (self, val):\n",
    "        self.val = val\n",
    "    def get_val(self):\n",
    "        return self.val\n",
    "        \n",
    "\n",
    "v1 = Vector([1, 2, 1, 5])\n",
    "v2 = Vector([2, 3, 1, 4])   \n",
    "print(v1.get_val())\n",
    "print(v2.get_val())\n",
    "v3 = v1 + v2"
   ]
  },
  {
   "cell_type": "code",
   "execution_count": null,
   "id": "56c136a3",
   "metadata": {},
   "outputs": [],
   "source": [
    "ZADANIE 8"
   ]
  },
  {
   "cell_type": "code",
   "execution_count": null,
   "id": "249d4ec5",
   "metadata": {},
   "outputs": [],
   "source": [
    "ZADANIE 9"
   ]
  }
 ],
 "metadata": {
  "kernelspec": {
   "display_name": "Python 3",
   "language": "python",
   "name": "python3"
  },
  "language_info": {
   "codemirror_mode": {
    "name": "ipython",
    "version": 3
   },
   "file_extension": ".py",
   "mimetype": "text/x-python",
   "name": "python",
   "nbconvert_exporter": "python",
   "pygments_lexer": "ipython3",
   "version": "3.8.8"
  }
 },
 "nbformat": 4,
 "nbformat_minor": 5
}
