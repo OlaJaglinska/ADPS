{
 "cells": [
  {
   "cell_type": "code",
   "execution_count": 107,
   "id": "824985ef",
   "metadata": {},
   "outputs": [],
   "source": [
    "import numpy as np\n",
    "import pandas as pd\n",
    "import pyreadr\n",
    "import os"
   ]
  },
  {
   "cell_type": "code",
   "execution_count": null,
   "id": "ca3a8f83",
   "metadata": {},
   "outputs": [],
   "source": [
    "ZADANIE 1"
   ]
  },
  {
   "cell_type": "code",
   "execution_count": 106,
   "id": "d0f8ea08",
   "metadata": {
    "scrolled": true
   },
   "outputs": [
    {
     "name": "stdout",
     "output_type": "stream",
     "text": [
      "zamienic serie na cos co mozna zmienic na date\n",
      "           Date    Close      Rate\n",
      "6478 2018-02-11  8129.97  0.000123\n",
      "6479 2018-02-10  8621.90  0.000116\n",
      "6480 2018-02-09  8736.98  0.000114\n",
      "6481 2018-02-08  8265.59  0.000121\n",
      "6482 2018-02-07  7621.30  0.000131\n",
      "...         ...      ...       ...\n",
      "8224 2013-05-02   105.21  0.009596\n",
      "8225 2013-05-01   116.99  0.008621\n",
      "8226 2013-04-30   139.00  0.007246\n",
      "8227 2013-04-29   144.54  0.006967\n",
      "8228 2013-04-28   134.21  0.007507\n",
      "\n",
      "[1751 rows x 3 columns]\n"
     ]
    },
    {
     "data": {
      "text/plain": [
       "pandas.core.series.Series"
      ]
     },
     "execution_count": 106,
     "metadata": {},
     "output_type": "execute_result"
    }
   ],
   "source": [
    "os.chdir(r'C:\\Users\\olaja\\Desktop\\anaconda')\n",
    "\n",
    "cr = pyreadr.read_r(r\".\\crypto.rds\")[None]\n",
    "cr = cr[cr['Currency'] == 'bitcoin']\n",
    "cr.drop(['Currency', 'Open', 'High', 'Volume', 'Low', 'Market.Cap'], axis=1, inplace=True)\n",
    "pd.to_datetime(cr.Date)\n",
    "\n",
    "cr.Date = pd.to_datetime(cr.Date, format='%b %d, %Y')\n",
    "print('zamienic serie na cos co mozna zmienic na date')\n",
    "\n",
    "\n",
    "cr = cr.assign(Rate = (cr.Close - (cr.Close-1))/(cr.Close-1))\n",
    "\n",
    "cr.sort_values(by='Rate')\n",
    "\n",
    "print(cr)\n",
    "type(cr.Date)"
   ]
  },
  {
   "cell_type": "code",
   "execution_count": null,
   "id": "f76fec5e",
   "metadata": {},
   "outputs": [],
   "source": [
    "ZADANIE 2"
   ]
  },
  {
   "cell_type": "code",
   "execution_count": 105,
   "id": "44299562",
   "metadata": {},
   "outputs": [
    {
     "name": "stdout",
     "output_type": "stream",
     "text": [
      "           id  artist_id                           album_title        genre  \\\n",
      "0           1       1767    Call me Cat Moneyless That Doggies         Folk   \n",
      "1           2      23548                             Down Mare        Metal   \n",
      "2           3      17822                    Embarrassed Hungry       Latino   \n",
      "3           4      19565  Standard Immediate Engineer Slovakia          Pop   \n",
      "4           5      24941              Decent Distance Georgian  Black Metal   \n",
      "...       ...        ...                                   ...          ...   \n",
      "99995   99996      44624     Mike Pies Malay Albanian Terrible     Pop-Rock   \n",
      "99996   99997      16345                                Global        Retro   \n",
      "99997   99998      32674                                  MINI        Indie   \n",
      "99998   99999      10134             Marketing Belligerent Toe          Pop   \n",
      "99999  100000      41286                  Lover Barbie Of Rock         Rock   \n",
      "\n",
      "       year_of_pub  num_of_tracks  num_of_sales  rolling_stone_critic  \\\n",
      "0             2006             11        905193                   4.0   \n",
      "1             2014              7        969122                   3.0   \n",
      "2             2000             11        522095                   2.5   \n",
      "3             2017              4        610116                   1.5   \n",
      "4             2010              8        151111                   4.5   \n",
      "...            ...            ...           ...                   ...   \n",
      "99995         2016              3        871655                   2.5   \n",
      "99996         2013             14        146202                   5.0   \n",
      "99997         2018              4        620452                   2.0   \n",
      "99998         2007              7        643276                   4.0   \n",
      "99999         2014              7        466962                   3.5   \n",
      "\n",
      "       mtv_critic  music_maniac_critic  \n",
      "0             1.5                  3.0  \n",
      "1             4.0                  5.0  \n",
      "2             1.0                  2.0  \n",
      "3             2.0                  4.0  \n",
      "4             2.5                  1.0  \n",
      "...           ...                  ...  \n",
      "99995         1.5                  1.0  \n",
      "99996         2.5                  1.0  \n",
      "99997         4.0                  5.0  \n",
      "99998         1.5                  4.0  \n",
      "99999         4.5                  2.5  \n",
      "\n",
      "[100000 rows x 10 columns]\n"
     ]
    },
    {
     "data": {
      "text/plain": [
       "pandas.core.frame.DataFrame"
      ]
     },
     "execution_count": 105,
     "metadata": {},
     "output_type": "execute_result"
    }
   ],
   "source": [
    "albums = pd.read_csv(\"albums.csv\")\n",
    "albums.sort_values(by='num_of_sales')\n",
    "\n",
    "\n",
    "print(albums)\n",
    "type(albums)"
   ]
  },
  {
   "cell_type": "code",
   "execution_count": null,
   "id": "8ee7d7c0",
   "metadata": {
    "collapsed": true
   },
   "outputs": [],
   "source": [
    "ZADANIE 3.1"
   ]
  },
  {
   "cell_type": "code",
   "execution_count": 240,
   "id": "b66be702",
   "metadata": {
    "scrolled": false
   },
   "outputs": [
    {
     "name": "stdout",
     "output_type": "stream",
     "text": [
      "Najmniej samobójstw na 100k: 21588               Saint Lucia\n",
      "4153     Bosnia and Herzegovina\n",
      "4152     Bosnia and Herzegovina\n",
      "4151     Bosnia and Herzegovina\n",
      "4147                     Belize\n",
      "Name: country, dtype: category\n",
      "Categories (101, object): ['Albania', 'Antigua and Barbuda', 'Argentina', 'Armenia', ..., 'United Kingdom', 'United States', 'Uruguay', 'Uzbekistan']\n",
      "Najwięcej samobójstw na 100k: 20530    Republic of Korea\n",
      "20542    Republic of Korea\n",
      "24332             Suriname\n",
      "22280           Seychelles\n",
      "1258                 Aruba\n",
      "Name: country, dtype: category\n",
      "Categories (101, object): ['Albania', 'Antigua and Barbuda', 'Argentina', 'Armenia', ..., 'United Kingdom', 'United States', 'Uruguay', 'Uzbekistan']\n"
     ]
    }
   ],
   "source": [
    "os.chdir(r'C:\\Users\\olaja\\Desktop\\anaconda')\n",
    "dfs = pyreadr.read_r(r\".\\suicides.rds\")[None]\n",
    "\n",
    "dfs.sort_values('suicides.100k.pop', inplace=True)\n",
    "dfs1 = dfs[(dfs['year']>1985) & (dfs['year']<2016)]\n",
    "\n",
    "print(f'Najmniej samobójstw na 100k: {dfs1.country.head(5)}')\n",
    "print(f'Najwięcej samobójstw na 100k: {dfs1.country.tail(5)}')\n"
   ]
  },
  {
   "cell_type": "code",
   "execution_count": null,
   "id": "dcccfed4",
   "metadata": {},
   "outputs": [],
   "source": [
    "ZADANIE 3.2"
   ]
  },
  {
   "cell_type": "code",
   "execution_count": 249,
   "id": "71e74865",
   "metadata": {
    "scrolled": true
   },
   "outputs": [
    {
     "name": "stdout",
     "output_type": "stream",
     "text": [
      "           sum\n",
      "year          \n",
      "1985   6811.89\n",
      "1986   6579.84\n",
      "1987   7545.45\n",
      "1988   7473.13\n",
      "1989   8036.54\n",
      "1990   9878.75\n",
      "1991  10321.06\n",
      "1992  10528.88\n",
      "1993  10790.29\n",
      "1994  11483.79\n",
      "1995  14660.26\n",
      "1996  14142.21\n",
      "1997  13817.83\n",
      "1998  14150.72\n",
      "1999  14473.91\n",
      "2000  14387.45\n",
      "2001  14276.21\n",
      "2002  14227.72\n",
      "2003  13627.58\n",
      "2004  12581.80\n",
      "2005  12164.99\n",
      "2006  12166.01\n",
      "2007  12410.15\n",
      "2008  12145.84\n",
      "2009  12176.04\n",
      "2010  11843.99\n",
      "2011  11367.84\n",
      "2012  11101.91\n",
      "2013  10663.64\n",
      "2014  10306.73\n",
      "2015   8253.99\n",
      "2016   2147.39\n"
     ]
    }
   ],
   "source": [
    "dfs2 = dfs['suicides.100k.pop'].groupby(dfs.year).agg(['sum'])\n",
    "print(dfs2)"
   ]
  },
  {
   "cell_type": "code",
   "execution_count": null,
   "id": "87bc9c20",
   "metadata": {},
   "outputs": [],
   "source": [
    "ZADANIE 3.3"
   ]
  },
  {
   "cell_type": "code",
   "execution_count": 261,
   "id": "16326199",
   "metadata": {
    "scrolled": false
   },
   "outputs": [
    {
     "name": "stdout",
     "output_type": "stream",
     "text": [
      "sex     age        \n",
      "male    15-24 years    6.71\n",
      "        35-54 years    5.19\n",
      "female  15-24 years    4.83\n",
      "male    75+ years      4.59\n",
      "        25-34 years    3.28\n",
      "                       ... \n",
      "female  35-54 years    2.96\n",
      "        75+ years      2.58\n",
      "male    5-14 years     2.17\n",
      "female  5-14 years     1.67\n",
      "        55-74 years    1.46\n",
      "Name: suicides.100k.pop, Length: 27820, dtype: float64\n"
     ]
    }
   ],
   "source": [
    "dfs_sa = dfs.set_index(['sex', 'age'])\n",
    "dfs3 = dfs_sa['suicides.100k.pop']\n",
    "print(dfs3)"
   ]
  },
  {
   "cell_type": "code",
   "execution_count": null,
   "id": "36e7ad7e",
   "metadata": {},
   "outputs": [],
   "source": [
    "ZADANIE 4"
   ]
  },
  {
   "cell_type": "code",
   "execution_count": 198,
   "id": "a3573949",
   "metadata": {
    "scrolled": true
   },
   "outputs": [
    {
     "name": "stdout",
     "output_type": "stream",
     "text": [
      "                                                     App             Category  \\\n",
      "0         Photo Editor & Candy Camera & Grid & ScrapBook       ART_AND_DESIGN   \n",
      "1                                    Coloring book moana       ART_AND_DESIGN   \n",
      "2      U Launcher Lite – FREE Live Cool Themes, Hide ...       ART_AND_DESIGN   \n",
      "3                                  Sketch - Draw & Paint       ART_AND_DESIGN   \n",
      "4                  Pixel Draw - Number Art Coloring Book       ART_AND_DESIGN   \n",
      "...                                                  ...                  ...   \n",
      "10836                                          Cardio-FR              MEDICAL   \n",
      "10837                                 Naruto & Boruto FR               SOCIAL   \n",
      "10838                           payermonstationnement.fr  MAPS_AND_NAVIGATION   \n",
      "10839                                           FR Forms             BUSINESS   \n",
      "10840                             Parkinson Exercices FR              MEDICAL   \n",
      "\n",
      "       Rating  Price  \n",
      "0         4.1    NaN  \n",
      "1         3.9    NaN  \n",
      "2         4.7    NaN  \n",
      "3         4.5    NaN  \n",
      "4         4.3    NaN  \n",
      "...       ...    ...  \n",
      "10836     NaN    0.0  \n",
      "10837     NaN    0.0  \n",
      "10838     NaN    0.0  \n",
      "10839     NaN    0.0  \n",
      "10840     NaN    0.0  \n",
      "\n",
      "[10841 rows x 4 columns]\n"
     ]
    }
   ],
   "source": [
    "os.chdir(r'C:\\Users\\olaja\\Desktop\\anaconda')\n",
    "\n",
    "free = pyreadr.read_r(r\".\\free_apps.rds\")[None]\n",
    "paid = pyreadr.read_r(r\".\\paid_apps.rds\")[None]\n",
    "norat = pyreadr.read_r(r\".\\norat_apps.rds\")[None]\n",
    "\n",
    "\n",
    "fpn= pd.concat([free, paid, norat], axis=0, ignore_index=True)\n",
    "print(fpn)\n",
    "\n",
    "fpn.to_csv('all_apps.csv', index=False)\n"
   ]
  },
  {
   "cell_type": "code",
   "execution_count": null,
   "id": "540f195b",
   "metadata": {},
   "outputs": [],
   "source": [
    "print(free)\n",
    "print(paid)\n",
    "print(norat)\n",
    "\n",
    "fp = free.merge(paid, on='App', how='outer').merge(norat,on='App', how='outer')\n"
   ]
  },
  {
   "cell_type": "code",
   "execution_count": null,
   "id": "5ea3ec35",
   "metadata": {},
   "outputs": [],
   "source": [
    "ZADANIE 5"
   ]
  },
  {
   "cell_type": "code",
   "execution_count": 186,
   "id": "b5092e04",
   "metadata": {
    "scrolled": true
   },
   "outputs": [
    {
     "name": "stdout",
     "output_type": "stream",
     "text": [
      "                max\n",
      "movieId            \n",
      "1        1537094680\n",
      "2        1525285333\n",
      "3        1445714996\n",
      "4        1143424860\n",
      "5        1143424895\n",
      "...             ...\n",
      "176101   1138039837\n",
      "177593   1137521429\n",
      "180095   1137521429\n",
      "180777   1138039757\n",
      "185135   1138039614\n",
      "\n",
      "[2041 rows x 1 columns]\n",
      "      movieId                                      title  \\\n",
      "0           1                           Toy Story (1995)   \n",
      "1           2                             Jumanji (1995)   \n",
      "2           3                    Grumpier Old Men (1995)   \n",
      "3           4                   Waiting to Exhale (1995)   \n",
      "4           5         Father of the Bride Part II (1995)   \n",
      "...       ...                                        ...   \n",
      "9737   193581  Black Butler: Book of the Atlantic (2017)   \n",
      "9738   193583               No Game No Life: Zero (2017)   \n",
      "9739   193585                               Flint (2017)   \n",
      "9740   193587        Bungo Stray Dogs: Dead Apple (2018)   \n",
      "9741   193609        Andrew Dice Clay: Dice Rules (1991)   \n",
      "\n",
      "                                           genres      mean  \\\n",
      "0     Adventure|Animation|Children|Comedy|Fantasy  3.920930   \n",
      "1                      Adventure|Children|Fantasy  3.431818   \n",
      "2                                  Comedy|Romance  3.259615   \n",
      "3                            Comedy|Drama|Romance  2.357143   \n",
      "4                                          Comedy  3.071429   \n",
      "...                                           ...       ...   \n",
      "9737              Action|Animation|Comedy|Fantasy  4.000000   \n",
      "9738                     Animation|Comedy|Fantasy  3.500000   \n",
      "9739                                        Drama  3.500000   \n",
      "9740                             Action|Animation  3.500000   \n",
      "9741                                       Comedy  4.000000   \n",
      "\n",
      "                     max  \n",
      "0    2018-09-16 10:44:40  \n",
      "1    2018-05-02 18:22:13  \n",
      "2    2015-10-24 19:29:56  \n",
      "3    2006-03-27 02:01:00  \n",
      "4    2006-03-27 02:01:35  \n",
      "...                  ...  \n",
      "9737                 NaT  \n",
      "9738                 NaT  \n",
      "9739                 NaT  \n",
      "9740                 NaT  \n",
      "9741                 NaT  \n",
      "\n",
      "[9742 rows x 5 columns]\n",
      "      movieId                                      title  \\\n",
      "0           1                           Toy Story (1995)   \n",
      "1           2                             Jumanji (1995)   \n",
      "2           3                    Grumpier Old Men (1995)   \n",
      "3           4                   Waiting to Exhale (1995)   \n",
      "4           5         Father of the Bride Part II (1995)   \n",
      "...       ...                                        ...   \n",
      "9737   193581  Black Butler: Book of the Atlantic (2017)   \n",
      "9738   193583               No Game No Life: Zero (2017)   \n",
      "9739   193585                               Flint (2017)   \n",
      "9740   193587        Bungo Stray Dogs: Dead Apple (2018)   \n",
      "9741   193609        Andrew Dice Clay: Dice Rules (1991)   \n",
      "\n",
      "                                           genres      mean  \\\n",
      "0     Adventure|Animation|Children|Comedy|Fantasy  3.920930   \n",
      "1                      Adventure|Children|Fantasy  3.431818   \n",
      "2                                  Comedy|Romance  3.259615   \n",
      "3                            Comedy|Drama|Romance  2.357143   \n",
      "4                                          Comedy  3.071429   \n",
      "...                                           ...       ...   \n",
      "9737              Action|Animation|Comedy|Fantasy  4.000000   \n",
      "9738                     Animation|Comedy|Fantasy  3.500000   \n",
      "9739                                        Drama  3.500000   \n",
      "9740                             Action|Animation  3.500000   \n",
      "9741                                       Comedy  4.000000   \n",
      "\n",
      "                     max                                           tag  \n",
      "0    2018-09-16 10:44:40                               pixar,pixar,fun  \n",
      "1    2018-05-02 18:22:13  fantasy,magic board game,Robin Williams,game  \n",
      "2    2015-10-24 19:29:56                                     moldy,old  \n",
      "3    2006-03-27 02:01:00                                           NaN  \n",
      "4    2006-03-27 02:01:35                              pregnancy,remake  \n",
      "...                  ...                                           ...  \n",
      "9737                 NaT                                           NaN  \n",
      "9738                 NaT                                           NaN  \n",
      "9739                 NaT                                           NaN  \n",
      "9740                 NaT                                           NaN  \n",
      "9741                 NaT                                           NaN  \n",
      "\n",
      "[9742 rows x 6 columns]\n"
     ]
    }
   ],
   "source": [
    "os.chdir(r'C:\\Users\\olaja\\Desktop\\anaconda')\n",
    "\n",
    "movies = pyreadr.read_r(r\".\\movies.rds\")[None]\n",
    "ratings = pyreadr.read_r(r\".\\ratings.rds\")[None]\n",
    "tags = pyreadr.read_r(r\".\\tags.rds\")[None]\n",
    "\n",
    "mean_ratings = ratings.rating.groupby(ratings.movieId).agg(['mean'])\n",
    "movies = pd.merge(movies, mean_ratings, on='movieId', how='outer')\n",
    "print(movies)\n",
    "\n",
    "last_tag = tags.timestamp.groupby(ratings.movieId).agg(['max'])\n",
    "last_tag['max'] = pd.to_datetime(last_tag['max'], unit='s')\n",
    "movies = pd.merge(movies, last_tag, on='movieId', how='outer')\n",
    "print(movies)\n",
    "\n",
    "join_tags = tags.tag.groupby(tags.movieId).apply(','.join).reset_index()\n",
    "movies = pd.merge(movies, join_tags, on='movieId', how='outer')\n",
    "print(movies)"
   ]
  }
 ],
 "metadata": {
  "kernelspec": {
   "display_name": "Python 3",
   "language": "python",
   "name": "python3"
  },
  "language_info": {
   "codemirror_mode": {
    "name": "ipython",
    "version": 3
   },
   "file_extension": ".py",
   "mimetype": "text/x-python",
   "name": "python",
   "nbconvert_exporter": "python",
   "pygments_lexer": "ipython3",
   "version": "3.8.8"
  }
 },
 "nbformat": 4,
 "nbformat_minor": 5
}
